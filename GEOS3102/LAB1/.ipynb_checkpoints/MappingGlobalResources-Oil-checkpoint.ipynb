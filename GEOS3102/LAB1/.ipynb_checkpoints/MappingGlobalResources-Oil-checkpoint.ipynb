{
 "cells": [
  {
   "cell_type": "markdown",
   "metadata": {},
   "source": [
    "# Mapping Australian Offshore Oil & Gas Resources with Basemap"
   ]
  },
  {
   "cell_type": "code",
   "execution_count": null,
   "metadata": {
    "collapsed": true
   },
   "outputs": [],
   "source": [
    "from pylab import rcParams\n",
    "\n",
    "import warnings\n",
    "warnings.filterwarnings('ignore')\n",
    "\n",
    "%matplotlib inline\n",
    "rcParams['figure.figsize'] = (12,8)"
   ]
  },
  {
   "cell_type": "code",
   "execution_count": null,
   "metadata": {
    "collapsed": false
   },
   "outputs": [],
   "source": [
    "from mpl_toolkits.basemap import Basemap\n",
    "import matplotlib.pyplot as plt\n",
    "import numpy as np"
   ]
  },
  {
   "cell_type": "markdown",
   "metadata": {},
   "source": [
    "# Zooming to Australia"
   ]
  },
  {
   "cell_type": "code",
   "execution_count": null,
   "metadata": {
    "collapsed": false
   },
   "outputs": [],
   "source": [
    "australia_map = Basemap(projection='merc', lat_0=-33.8650, lon_0=151.2,\n",
    "    resolution = 'l', area_thresh = 1000.0,\n",
    "    llcrnrlon=110.0, llcrnrlat=-45.0,\n",
    "    urcrnrlon=160.0, urcrnrlat=-10.0)\n",
    " \n",
    "australia_map.drawcoastlines()\n",
    "australia_map.drawcountries()\n",
    "australia_map.fillcontinents(color='green')\n",
    "australia_map.drawmapboundary()\n",
    " \n",
    "australia_map.drawmeridians(np.arange(0, 360, 10))\n",
    "australia_map.drawparallels(np.arange(-90, 90, 10))\n",
    " \n",
    "plt.show()"
   ]
  },
  {
   "cell_type": "markdown",
   "metadata": {},
   "source": [
    "# Australian Oil & Gas dataset"
   ]
  },
  {
   "cell_type": "code",
   "execution_count": null,
   "metadata": {
    "collapsed": false
   },
   "outputs": [],
   "source": [
    "import csv\n",
    "\n",
    "# Open the MRDS csv file\n",
    "csvfile = open( \"/workspace/LAB1/dataset/OilGas.csv\", \"rb\" )\n",
    "\n",
    "# Read csv file according to dialect\n",
    "reader = csv.reader( csvfile )\n",
    "\n",
    "# Read header\n",
    "header = reader.next()\n",
    "print header\n",
    "\n",
    "# Close input file\n",
    "csvfile.close()"
   ]
  },
  {
   "cell_type": "code",
   "execution_count": null,
   "metadata": {
    "collapsed": false
   },
   "outputs": [],
   "source": [
    "# Open the MRDS data file.\n",
    "filename = '/workspace/LAB1/dataset/OilGas.csv'\n",
    "\n",
    "# Create empty lists for the latitudes and longitudes.\n",
    "lats, lons = [], []\n",
    "\n",
    "# Read through the entire file, skip the first line,\n",
    "#  and pull out just the lats and lons.\n",
    "with open(filename) as f:\n",
    "    # Create a csv reader object.\n",
    "    reader = csv.reader(f)\n",
    "    \n",
    "    # Ignore the header row.\n",
    "    next(reader)\n",
    "    \n",
    "    # Store the latitudes and longitudes in the appropriate lists.\n",
    "    for row in reader:\n",
    "        lats.append(float(row[8]))\n",
    "        lons.append(float(row[9]))\n",
    "        \n",
    "# Display the first 5 lats and lons.\n",
    "print('lats', lats[0:5])\n",
    "print('lons', lons[0:5])"
   ]
  },
  {
   "cell_type": "markdown",
   "metadata": {},
   "source": [
    "# Plotting Offshore Oil & Gas resources "
   ]
  },
  {
   "cell_type": "code",
   "execution_count": null,
   "metadata": {
    "collapsed": false
   },
   "outputs": [],
   "source": [
    "australia_map = Basemap(projection='merc', lat_0=-33.8650, lon_0=151.2,\n",
    "    resolution = 'l', area_thresh = 1000.0,\n",
    "    llcrnrlon=110.0, llcrnrlat=-45.0,\n",
    "    urcrnrlon=160.0, urcrnrlat=-10.0)\n",
    " \n",
    "australia_map.drawcoastlines()\n",
    "australia_map.drawcountries()\n",
    "australia_map.bluemarble()\n",
    "australia_map.drawmapboundary()\n",
    " \n",
    "australia_map.drawmeridians(np.arange(0, 360, 10))\n",
    "australia_map.drawparallels(np.arange(-90, 90, 10))\n",
    " \n",
    "x,y = australia_map(lons, lats)\n",
    "australia_map.plot(x, y, 'ro', markersize=6)\n",
    "title_string = 'Australian Oil&Gas resources from GA database'\n",
    " \n",
    "plt.show()"
   ]
  },
  {
   "cell_type": "code",
   "execution_count": null,
   "metadata": {
    "collapsed": true
   },
   "outputs": [],
   "source": []
  }
 ],
 "metadata": {
  "kernelspec": {
   "display_name": "Python 2",
   "language": "python",
   "name": "python2"
  },
  "language_info": {
   "codemirror_mode": {
    "name": "ipython",
    "version": 2
   },
   "file_extension": ".py",
   "mimetype": "text/x-python",
   "name": "python",
   "nbconvert_exporter": "python",
   "pygments_lexer": "ipython2",
   "version": "2.7.6"
  }
 },
 "nbformat": 4,
 "nbformat_minor": 0
}
