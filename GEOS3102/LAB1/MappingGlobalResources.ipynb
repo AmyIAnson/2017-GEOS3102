{
 "cells": [
  {
   "cell_type": "markdown",
   "metadata": {},
   "source": [
    "# Mapping Global Resources with Basemap\n",
    "\n",
    "\n",
    "# Inline output\n",
    "\n",
    "The following code helps make all of the code samples in this notebook display their output properly. \n",
    "\n",
    "Note that you need to run this cell before running any other cell in the notebook. Otherwise your output will display in a separate window, or it won't display at all. If you try to run a cell and the output does not display in the notebook:\n",
    "- Restart the IPython Notebook kernel.\n",
    "- Run the following cell.\n",
    "- Run the cell you were interested in again."
   ]
  },
  {
   "cell_type": "code",
   "execution_count": null,
   "metadata": {
    "collapsed": true
   },
   "outputs": [],
   "source": [
    "# This just lets the output of the following code samples\n",
    "#  display inline on this page, at an appropriate size.\n",
    "from pylab import rcParams\n",
    "import warnings\n",
    "warnings.filterwarnings('ignore')\n",
    "%matplotlib inline\n",
    "rcParams['figure.figsize'] = (12,8)"
   ]
  },
  {
   "cell_type": "markdown",
   "metadata": {},
   "source": [
    "Python’s [matplotlib](http://matplotlib.org/) package is an amazing resource, and the [Basemap toolkit](http://matplotlib.org/basemap/) extends matplotlib’s capabilities to mapping applications.\n",
    "\n",
    "We will use them to make maps of global resources. The first thing consists in `importing` these libraries into our environment. "
   ]
  },
  {
   "cell_type": "code",
   "execution_count": null,
   "metadata": {
    "collapsed": false
   },
   "outputs": [],
   "source": [
    "from mpl_toolkits.basemap import Basemap\n",
    "import matplotlib.pyplot as plt\n",
    "import numpy as np"
   ]
  },
  {
   "cell_type": "markdown",
   "metadata": {},
   "source": [
    "# Making a simple map\n",
    "\n",
    "Let's start out by making a simple map of the world. If you run the following code, you should get a nice map of the globe, with good clean coastlines:"
   ]
  },
  {
   "cell_type": "code",
   "execution_count": null,
   "metadata": {
    "collapsed": false
   },
   "outputs": [],
   "source": [
    "# make sure the value of resolution is a lowercase L,\n",
    "#  for 'low', not a numeral 1\n",
    "my_map = Basemap(projection='ortho', lat_0=50, lon_0=-100,\n",
    "              resolution='l', area_thresh=1000.0)\n",
    " \n",
    "my_map.drawcoastlines()\n",
    " \n",
    "plt.show()"
   ]
  },
  {
   "cell_type": "markdown",
   "metadata": {},
   "source": [
    "# Adding details\n",
    "\n",
    "Let’s add some more detail to this map, starting with country borders. Add the following lines after `map.drawcoastlines()`:"
   ]
  },
  {
   "cell_type": "code",
   "execution_count": null,
   "metadata": {
    "collapsed": false
   },
   "outputs": [],
   "source": [
    "# make sure the value of resolution is a lowercase L,\n",
    "#  for 'low', not a numeral 1\n",
    "my_map = Basemap(projection='ortho', lat_0=50, lon_0=-100,\n",
    "              resolution='l', area_thresh=1000.0)\n",
    " \n",
    "my_map.drawcoastlines()\n",
    "my_map.drawcountries()\n",
    "my_map.fillcontinents(color='green')\n",
    "my_map.drawmapboundary()\n",
    " \n",
    "plt.show()"
   ]
  },
  {
   "cell_type": "markdown",
   "metadata": {},
   "source": [
    "Now let’s draw latitude and longitude lines:"
   ]
  },
  {
   "cell_type": "code",
   "execution_count": null,
   "metadata": {
    "collapsed": false
   },
   "outputs": [],
   "source": [
    "# make sure the value of resolution is a lowercase L,\n",
    "#  for 'low', not a numeral 1\n",
    "my_map = Basemap(projection='ortho', lat_0=50, lon_0=-100,\n",
    "              resolution='l', area_thresh=1000.0)\n",
    " \n",
    "my_map.drawcoastlines()\n",
    "my_map.drawcountries()\n",
    "my_map.fillcontinents(color='green')\n",
    "my_map.drawmapboundary()\n",
    " \n",
    "my_map.drawmeridians(np.arange(0, 360, 30))\n",
    "my_map.drawparallels(np.arange(-90, 90, 30))\n",
    " \n",
    "plt.show()"
   ]
  },
  {
   "cell_type": "markdown",
   "metadata": {},
   "source": [
    "The `np.arange()` arguments tell where your latitude and longitude lines should begin and end, and how far apart they should be spaced.\n",
    "\n",
    "Let’s play with two of the map settings, and then we'll move on to plotting data on this globe. Let’s start by adjusting the perspective. Change the latitude and longitude parameters in the original Basemap definition to -30 and 140. When you run the program, you should see your map centered along Australia:"
   ]
  },
  {
   "cell_type": "code",
   "execution_count": null,
   "metadata": {
    "collapsed": false
   },
   "outputs": [],
   "source": [
    "from mpl_toolkits.basemap import Basemap\n",
    "import matplotlib.pyplot as plt\n",
    "import numpy as np\n",
    " \n",
    "# make sure the value of resolution is a lowercase L,\n",
    "#  for 'low', not a numeral 1\n",
    "my_map = Basemap(projection='ortho', lat_0=-30, lon_0=140,\n",
    "              resolution='l', area_thresh=1000.0)\n",
    " \n",
    "my_map.drawcoastlines()\n",
    "my_map.drawcountries()\n",
    "my_map.fillcontinents(color='green')\n",
    "my_map.drawmapboundary()\n",
    " \n",
    "my_map.drawmeridians(np.arange(0, 360, 30))\n",
    "my_map.drawparallels(np.arange(-90, 90, 30))\n",
    " \n",
    "plt.show()"
   ]
  },
  {
   "cell_type": "markdown",
   "metadata": {},
   "source": [
    "Now let’s change the kind of map we're producing. Change the projection type to ‘robin’. You should end up with a Robinson projection instead of a globe:"
   ]
  },
  {
   "cell_type": "code",
   "execution_count": null,
   "metadata": {
    "collapsed": false
   },
   "outputs": [],
   "source": [
    "# make sure the value of resolution is a lowercase L,\n",
    "#  for 'low', not a numeral 1\n",
    "my_map = Basemap(projection='robin', lat_0=-30, lon_0=140,\n",
    "              resolution='l', area_thresh=1000.0)\n",
    " \n",
    "my_map.drawcoastlines()\n",
    "my_map.drawcountries()\n",
    "my_map.fillcontinents(color='green')\n",
    "my_map.drawmapboundary()\n",
    " \n",
    "my_map.drawmeridians(np.arange(0, 360, 30))\n",
    "my_map.drawparallels(np.arange(-90, 90, 30))\n",
    " \n",
    "plt.show()"
   ]
  },
  {
   "cell_type": "markdown",
   "metadata": {},
   "source": [
    "# Zooming in\n",
    "\n",
    "Before we move on to plotting points on the map, let’s see how to zoom in on a region. This is good to know because there are many data sets specific to one region of the world, which would get lost when plotted on a map of the whole world. Some projections can not be zoomed in at all, so if things are not working well, make sure to look at the [documentation](http://matplotlib.org/basemap/api/basemap_api.html).\n",
    "\n",
    "We are in Sydney, so let’s zoom in on that region. One way to zoom in is to specify the latitude and longitude of the lower left and upper right corners of the region you want to show. Let’s use a mercator projection, which supports this method of zooming. The notation for “lower left corner at 151.2 degrees east and 33.8 degrees south” is:\n",
    "`llcrnrlon = 151.2, llcrnrlat =  -33.8650`"
   ]
  },
  {
   "cell_type": "code",
   "execution_count": null,
   "metadata": {
    "collapsed": false
   },
   "outputs": [],
   "source": [
    "my_map = Basemap(projection='merc', lat_0=-33.8650, lon_0=151.2,\n",
    "    resolution = 'l', area_thresh = 1000.0,\n",
    "    llcrnrlon=150.0, llcrnrlat=-35.050,\n",
    "    urcrnrlon=152.4, urcrnrlat=-32.6650)\n",
    " \n",
    "my_map.drawcoastlines()\n",
    "my_map.drawcountries()\n",
    "my_map.fillcontinents(color='green')\n",
    "my_map.drawmapboundary()\n",
    " \n",
    "my_map.drawmeridians(np.arange(0, 360, 30))\n",
    "my_map.drawparallels(np.arange(-90, 90, 30))\n",
    " \n",
    "plt.show()"
   ]
  },
  {
   "cell_type": "markdown",
   "metadata": {},
   "source": [
    "Note that the center of the map, given by lat_0 and lon_0, must be within the region you are zoomed in on.\n",
    "\n",
    "This worked, but the map is pretty ugly. Let’s change the resolution to ‘h’ for ‘high’, and see what we get:"
   ]
  },
  {
   "cell_type": "code",
   "execution_count": null,
   "metadata": {
    "collapsed": false
   },
   "outputs": [],
   "source": [
    "my_map = Basemap(projection='merc', lat_0=-33.8650, lon_0=151.2,\n",
    "    resolution = 'h', area_thresh = 1000.0,\n",
    "    llcrnrlon=150.0, llcrnrlat=-35.050,\n",
    "    urcrnrlon=152.4, urcrnrlat=-32.6650)\n",
    " \n",
    "my_map.drawcoastlines()\n",
    "my_map.drawcountries()\n",
    "my_map.fillcontinents(color='green')\n",
    "my_map.drawmapboundary()\n",
    " \n",
    "my_map.drawmeridians(np.arange(0, 360, 30))\n",
    "my_map.drawparallels(np.arange(-90, 90, 30))\n",
    " \n",
    "plt.show()"
   ]
  },
  {
   "cell_type": "markdown",
   "metadata": {},
   "source": [
    "# Plotting points on a simple map\n",
    "\n",
    "It's a testament to the hard work of many other people that we can create a map like the one above in less than 15 lines of code! Now let’s add some points to the map. Add the following lines just before plt.show() which represent the coordinates of Sydney:\n",
    "\n",
    "`\n",
    "lon = 151.2094\n",
    "lat = -33.8650\n",
    "x,y = my_map(lon, lat)\n",
    "my_map.plot(x, y, 'bo', markersize=12)`"
   ]
  },
  {
   "cell_type": "code",
   "execution_count": null,
   "metadata": {
    "collapsed": false
   },
   "outputs": [],
   "source": [
    "my_map = Basemap(projection='merc', lat_0=-33.8650, lon_0=151.2,\n",
    "    resolution = 'h', area_thresh = 1000.0,\n",
    "    llcrnrlon=150.0, llcrnrlat=-35.050,\n",
    "    urcrnrlon=152.4, urcrnrlat=-32.6650)\n",
    " \n",
    "my_map.drawcoastlines()\n",
    "my_map.drawcountries()\n",
    "my_map.fillcontinents(color='green')\n",
    "my_map.drawmapboundary()\n",
    " \n",
    "my_map.drawmeridians(np.arange(0, 360, 30))\n",
    "my_map.drawparallels(np.arange(-90, 90, 30))\n",
    " \n",
    "lon = 151.2094\n",
    "lat = -33.8650\n",
    "x,y = my_map(lon, lat)\n",
    "my_map.plot(x, y, 'ro', markersize=12)\n",
    "    \n",
    "plt.show()"
   ]
  },
  {
   "cell_type": "markdown",
   "metadata": {},
   "source": [
    "The only non-obvious line here is the `ro` argument, which tells basemap to use a red circle for the point. There are quite a number of colors and symbols you can use. For more choices, see the documentation for the [matplotlib.pyplot.plot](http://matplotlib.org/api/axes_api.html#matplotlib.axes.Axes.plot) function. The default marker size is 6, but that was too small on this particular map. A markersize of 12 shows up nicely on this map.\n",
    "\n",
    "Plotting a single point is nice, but we often want to plot a large set of points on a map. Let’s show two other cities on the map: **Newcastle** and **Kiama**. We store the latitudes and longitudes of our points in two separate lists, map those to x and y coordinates, and plot those points on the map. "
   ]
  },
  {
   "cell_type": "code",
   "execution_count": null,
   "metadata": {
    "collapsed": false
   },
   "outputs": [],
   "source": [
    "# KIAMA 34.6708° S, 150.8542° E\n",
    "# NEWCATLE 32.9167° S, 151.7500° E\n",
    "my_map = Basemap(projection='merc', lat_0=-33.8650, lon_0=151.2,\n",
    "    resolution = 'h', area_thresh = 1000.0,\n",
    "    llcrnrlon=150.0, llcrnrlat=-35.050,\n",
    "    urcrnrlon=152.4, urcrnrlat=-32.6650)\n",
    " \n",
    "my_map.drawcoastlines()\n",
    "my_map.drawcountries()\n",
    "my_map.fillcontinents(color='green')\n",
    "my_map.drawmapboundary()\n",
    " \n",
    "my_map.drawmeridians(np.arange(0, 360, 30))\n",
    "my_map.drawparallels(np.arange(-90, 90, 30))\n",
    "\n",
    "lons = [151.2094, 150.8542, 151.75] \n",
    "lats = [-33.8650, -34.6708, -32.9167]\n",
    "x,y = my_map(lons, lats)\n",
    "my_map.plot(x, y, 'ro', markersize=10)\n",
    " \n",
    "plt.show()"
   ]
  },
  {
   "cell_type": "markdown",
   "metadata": {},
   "source": [
    "# A global mineral resources dataset\n",
    "\n",
    "The USGS maintains a **Mineral Resources Data System (MRDS)** on its [website](http://mrdata.usgs.gov/mrds/). RDS is a collection of reports describing metallic and nonmetallic mineral resources throughout the world. Included are deposit name, location, commodity, deposit description, geologic characteristics, production, reserves, resources, and references.\n",
    "\n",
    "You can also choose from a variety of formats. In this first example, we'll look at how to parse a file in the **csv** format (comma-separated value). There are more convenient formats to work with such as json, but not all data sets are neatly organized. \n",
    "\n",
    "## Parsing the data\n",
    "\n",
    "If we examine the first few lines of the text file of the dataset, we can identify the information that's most relevant to us:"
   ]
  },
  {
   "cell_type": "code",
   "execution_count": null,
   "metadata": {
    "collapsed": false
   },
   "outputs": [],
   "source": [
    "import csv\n",
    "\n",
    "# Open the MRDS csv file\n",
    "csvfile = open( \"/workspace/LAB1/dataset/MRDS.csv\", \"rb\" )\n",
    "\n",
    "# Read csv file according to dialect\n",
    "reader = csv.reader( csvfile )\n",
    "\n",
    "# Read header\n",
    "header = reader.next()\n",
    "print header\n",
    "\n",
    "# Close input file\n",
    "csvfile.close()"
   ]
  },
  {
   "cell_type": "markdown",
   "metadata": {},
   "source": [
    "For now, we're only interested in the latitude and longitude of each mineral resources. If we look at the first line, it looks like we're interested in the 7th and 8th columns of each line. In the directory where you save your program files, make a directory called “datasets”.\n",
    "\n",
    "# Using Python's csv module to parse the data\n",
    "\n",
    "We'll process the data using Python's [csv module module](http://docs.python.org/3.3/library/csv.html), which simplifies the process of working with csv files.\n",
    "\n",
    "The following code produces two lists, containing the latitudes and longitudes of each mineral resources in the file:"
   ]
  },
  {
   "cell_type": "code",
   "execution_count": null,
   "metadata": {
    "collapsed": false
   },
   "outputs": [],
   "source": [
    "# Open the MRDS data file.\n",
    "filename = '/workspace/LAB1/dataset/MRDS.csv'\n",
    "\n",
    "# Create empty lists for the latitudes and longitudes.\n",
    "lats, lons = [], []\n",
    "\n",
    "# Read through the entire file, skip the first line,\n",
    "#  and pull out just the lats and lons.\n",
    "with open(filename) as f:\n",
    "    # Create a csv reader object.\n",
    "    reader = csv.reader(f)\n",
    "    \n",
    "    # Ignore the header row.\n",
    "    next(reader)\n",
    "    \n",
    "    # Store the latitudes and longitudes in the appropriate lists.\n",
    "    for row in reader:\n",
    "        lats.append(float(row[7]))\n",
    "        lons.append(float(row[6]))\n",
    "        \n",
    "# Display the first 5 lats and lons.\n",
    "print('lats', lats[0:5])\n",
    "print('lons', lons[0:5])"
   ]
  },
  {
   "cell_type": "markdown",
   "metadata": {},
   "source": [
    "We create empty lists to contain the latitudes and longitudes. Then we use the `with` statement to ensure that the file closes properly once it has been read, even if there are errors in processing the file.\n",
    "\n",
    "With the data file open, we initialize a csv reader object. The `next()` function skips over the header row. Then we loop through each row in the data file, and pull out the information we want."
   ]
  },
  {
   "cell_type": "markdown",
   "metadata": {},
   "source": [
    "# Plotting mineral resources \n",
    "\n",
    "Using what we learned about plotting a set of points, we can now make a simple plot of these points:"
   ]
  },
  {
   "cell_type": "code",
   "execution_count": null,
   "metadata": {
    "collapsed": false
   },
   "outputs": [],
   "source": [
    "# Open the MRDS data file.\n",
    "filename = '/workspace/LAB1/dataset/MRDS.csv'\n",
    "\n",
    "# Create empty lists for the latitudes and longitudes.\n",
    "lats, lons = [], []\n",
    "\n",
    "# Read through the entire file, skip the first line,\n",
    "#  and pull out just the lats and lons.\n",
    "with open(filename) as f:\n",
    "    # Create a csv reader object.\n",
    "    reader = csv.reader(f)\n",
    "    \n",
    "    # Ignore the header row.\n",
    "    next(reader)\n",
    "    \n",
    "    # Store the latitudes and longitudes in the appropriate lists.\n",
    "    for row in reader:\n",
    "        lats.append(float(row[7]))\n",
    "        lons.append(float(row[6]))\n",
    "\n",
    "# Build Map\n",
    "mrds_map = Basemap(projection='robin', lat_0=-30, lon_0=140,\n",
    "              resolution='l', area_thresh=1000.0)\n",
    "mrds_map.drawcoastlines()\n",
    "mrds_map.drawcountries()\n",
    "mrds_map.fillcontinents(color = 'gray')\n",
    "mrds_map.drawmapboundary()\n",
    "mrds_map.drawmeridians(np.arange(0, 360, 30))\n",
    "mrds_map.drawparallels(np.arange(-90, 90, 30))\n",
    " \n",
    "x,y = mrds_map(lons, lats)\n",
    "mrds_map.plot(x, y, 'ro', markersize=6)\n",
    " \n",
    "plt.show()"
   ]
  },
  {
   "cell_type": "markdown",
   "metadata": {},
   "source": [
    "This is pretty cool; in about 20 lines of code we've turned a giant text file into an informative map. But there's one fairly obvious improvement we should make - let’s try to make the points on the map represent the type of commodity. We start out by reading the commodity type `code_list` (column 6) into a list along with the latitudes and longitudes of each resource:"
   ]
  },
  {
   "cell_type": "code",
   "execution_count": null,
   "metadata": {
    "collapsed": false
   },
   "outputs": [],
   "source": [
    "# Open the MRDS data file.\n",
    "filename = '/workspace/LAB1/dataset/MRDS.csv'\n",
    "\n",
    "# Create empty lists for the latitudes, longitudes and commodity.\n",
    "lats, lons, commodity = [], [], []\n",
    "\n",
    "# Read through the entire file, skip the first line,\n",
    "#  and pull out just the lats and lons.\n",
    "with open(filename) as f:\n",
    "    # Create a csv reader object.\n",
    "    reader = csv.reader(f)\n",
    "    \n",
    "    # Ignore the header row.\n",
    "    next(reader)\n",
    "    \n",
    "    # Store the latitudes and longitudes in the appropriate lists.\n",
    "    for row in reader:\n",
    "        lats.append(float(row[7]))\n",
    "        lons.append(float(row[6]))\n",
    "        commodity.append(row[5])\n",
    "print commodity[0:10]"
   ]
  },
  {
   "cell_type": "markdown",
   "metadata": {},
   "source": [
    "The mineral commodities is composed of a range of mineral deposit types: AU, FE, CU, AG...\n",
    "\n",
    "## Global gold resources distribution\n",
    "\n",
    "As an example we will first extract all places containing some gold deposits. To do this we will loop over the lists of commodity types and look for `AU` in them, we will take the row ID (`auID`) of the lines containing the type `AU`. "
   ]
  },
  {
   "cell_type": "code",
   "execution_count": null,
   "metadata": {
    "collapsed": false
   },
   "outputs": [],
   "source": [
    "auIDs = [i for i, s in enumerate(commodity) if 'AU' in s]\n",
    "print auIDs[0:10]"
   ]
  },
  {
   "cell_type": "markdown",
   "metadata": {},
   "source": [
    "Then we initialise 2 empty lists `lonAu` and `latAu`. For each index containing the gold commodity we will append our list with their global coordiantes."
   ]
  },
  {
   "cell_type": "code",
   "execution_count": null,
   "metadata": {
    "collapsed": false
   },
   "outputs": [],
   "source": [
    "# Initialisation of coordinates lists\n",
    "lonAu = []\n",
    "latAu = []\n",
    "\n",
    "# Allocations of the list of coordinates containing the type gold\n",
    "for id in auIDs:\n",
    "    lonAu.append(lons[id])\n",
    "    latAu.append(lats[id]) "
   ]
  },
  {
   "cell_type": "markdown",
   "metadata": {},
   "source": [
    "Now we will use the commodity type ID to select the mining resources we would like to plot, before we finish, let’s also add a title to our map. Our title needs to include the type of commodity visualised."
   ]
  },
  {
   "cell_type": "code",
   "execution_count": null,
   "metadata": {
    "collapsed": false
   },
   "outputs": [],
   "source": [
    "au_map = Basemap(projection='robin', lat_0=-30, lon_0=140,\n",
    "              resolution='l', area_thresh=1000.0)\n",
    "au_map.drawcoastlines()\n",
    "au_map.drawcountries()\n",
    "au_map.fillcontinents(color = 'gray')\n",
    "au_map.drawmapboundary()\n",
    "au_map.drawmeridians(np.arange(0, 360, 30))\n",
    "au_map.drawparallels(np.arange(-90, 90, 30))\n",
    "\n",
    "x,y = mrds_map(lonAu, latAu)\n",
    "mrds_map.plot(x, y, 'yo', markersize=6)\n",
    "        \n",
    "title_string = 'Gold mineral resources around the globe from USGS MRDS dataset'\n",
    "plt.title(title_string)\n",
    "plt.show()"
   ]
  },
  {
   "cell_type": "code",
   "execution_count": null,
   "metadata": {
    "collapsed": false
   },
   "outputs": [],
   "source": [
    "au_map = Basemap(projection='robin', lat_0=-30, lon_0=140,\n",
    "              resolution='l', area_thresh=1000.0)\n",
    "au_map.drawcoastlines()\n",
    "au_map.drawcountries()\n",
    "#au_map.fillcontinents(color = 'gray')\n",
    "au_map.bluemarble()\n",
    "au_map.drawmapboundary()\n",
    "au_map.drawmeridians(np.arange(0, 360, 30))\n",
    "au_map.drawparallels(np.arange(-90, 90, 30))\n",
    "\n",
    "x,y = mrds_map(lonAu, latAu)\n",
    "mrds_map.plot(x, y, 'yo', markersize=6)\n",
    "        \n",
    "title_string = 'Gold mineral resources around the globe from USGS MRDS dataset'\n",
    "plt.title(title_string)\n",
    "plt.show()"
   ]
  },
  {
   "cell_type": "code",
   "execution_count": null,
   "metadata": {
    "collapsed": true
   },
   "outputs": [],
   "source": []
  }
 ],
 "metadata": {
  "kernelspec": {
   "display_name": "Python 2",
   "language": "python",
   "name": "python2"
  },
  "language_info": {
   "codemirror_mode": {
    "name": "ipython",
    "version": 2
   },
   "file_extension": ".py",
   "mimetype": "text/x-python",
   "name": "python",
   "nbconvert_exporter": "python",
   "pygments_lexer": "ipython2",
   "version": "2.7.6"
  }
 },
 "nbformat": 4,
 "nbformat_minor": 0
}
