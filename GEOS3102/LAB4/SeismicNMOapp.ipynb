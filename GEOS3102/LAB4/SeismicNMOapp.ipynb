{
 "cells": [
  {
   "cell_type": "markdown",
   "metadata": {},
   "source": [
    "# Using the Notebook"
   ]
  },
  {
   "cell_type": "markdown",
   "metadata": {},
   "source": [
    "This is the <a href=\"http://ipython.org/notebook.html\">iPython Notebook</a>, an interactive coding and computation environment. For this lab, you do not have to write any code, you will only be running it. \n",
    "\n",
    "To use the notebook:\n",
    "- \"Shift + Enter\" runs the code within the cell (so does the forward arrow button near the top of the document)\n",
    "- You can alter variables and re-run cells\n",
    "- If you want to start with a clean slate, restart the Kernel either by going to the top, clicking on Kernel: Restart, or by \"esc + 00\" (if you do this, you will need to re-run Step 0 before running any other cells in the notebook) \n",
    "\n",
    "Instructions as to how to set up Python and the iPython notebook on your personal computer are attached in the appendix of the lab"
   ]
  },
  {
   "cell_type": "markdown",
   "metadata": {},
   "source": [
    "## Step 0: Import Necessary Packages"
   ]
  },
  {
   "cell_type": "code",
   "execution_count": null,
   "metadata": {
    "collapsed": false
   },
   "outputs": [],
   "source": [
    "%pylab inline\n",
    "from SeisWidgetImport import *"
   ]
  },
  {
   "cell_type": "markdown",
   "metadata": {},
   "source": [
    "# Two common-mid-point (CMP) gathers: Clean and Noisy"
   ]
  },
  {
   "cell_type": "markdown",
   "metadata": {},
   "source": [
    "We have two CMP gathers generated from different geologic models. One data set is clean and the other is contaminated with noise. The seismic data were adapted from SeismicLab (http://seismic-lab.physics.ualberta.ca/). \n",
    "\n",
    "In this notebook, we will walk through how to construct a normal incidence seismogram from these data sets.\n",
    "\n",
    "We will do this in the following steps:\n",
    "- Plot the data\n",
    "- Fit a hyperbola to the reflection event in the data\n",
    "- Perform the NMO correction and stack"
   ]
  },
  {
   "cell_type": "markdown",
   "metadata": {},
   "source": [
    "## Step 1: Plot the data"
   ]
  },
  {
   "cell_type": "markdown",
   "metadata": {},
   "source": [
    "As you can see from clean CMP gather, you can recognize that we have only have one reflector, meaning there is a single interface seperating two geologic units visible in these data. \n",
    "(Note: The direct and any refracted arrivals have been removed). \n",
    "\n",
    "It is difficult to distinguish any reflectors in the noisy data. However, there is a single reflector in these data, and we will perform normal moveout (NMO) and stacking operations to construct a normal-incidence seismogram where this reflector is visible.  "
   ]
  },
  {
   "cell_type": "code",
   "execution_count": null,
   "metadata": {
    "collapsed": false
   },
   "outputs": [],
   "source": [
    "# Plot the data\n",
    "ViewWiggle(syndata, obsdata)"
   ]
  },
  {
   "cell_type": "markdown",
   "metadata": {},
   "source": [
    "### Step 2: Fit A Hyperbola to the Data"
   ]
  },
  {
   "cell_type": "markdown",
   "metadata": {},
   "source": [
    "- Each reflection event in a CMP gather has a travel time that corresponds to a hyperbola: $$ t(x) = \\sqrt{\\frac{x^2}{v^2_{stacking}} + t_0^2} \\\\$$ where $x$ is offset between source and receiver, $v_{stacking}$ is stacking velocity, and $t_0$ is the intercept time: $$ t_0 = \\sqrt{\\frac{4d^2}{v^2_{stacking}}} \\\\$$ where $d$ is the thickness of the first layer.\n",
    "\n",
    "- For each reflection event hyperbola, perform a velocity analysis to find $v_{stacking}$. This is done by first choosing $t_o$. Then choose a trial value of velocity. <img src=\"http://www.eos.ubc.ca/courses/eosc350/content/methods/meth_10d/assets/kearey_fig4_21.gif\"></img>\n",
    "\n",
    "- Calculate the Normal Moveout Correction: Using the hyperbolia corresponding to $v_{stacking}$, compute the normal moveout for each trace and then adjust the reflection time by the amount $\\triangle T$: $$ \\triangle T = t_0-t(x) \\\\ $$ <img src=\"http://www.eos.ubc.ca/courses/eosc350/content/methods/meth_10d/assets/ch1_fig8.gif\"></img>\n",
    "\n",
    "Estimate $t_0$ and $v_{stack}$, then apply NMO correction (For clean CMP gather)"
   ]
  },
  {
   "cell_type": "code",
   "execution_count": null,
   "metadata": {
    "collapsed": false
   },
   "outputs": [],
   "source": [
    "# Fit hyperbola to clean data\n",
    "clean = interact(CleanNMOWidget, t0 = (0.2, 0.8, 0.01), v = (1000., 5000., 100.))"
   ]
  },
  {
   "cell_type": "markdown",
   "metadata": {},
   "source": [
    "### Step 2: Stack the NMO corrected Data (For clean CMP gather)"
   ]
  },
  {
   "cell_type": "markdown",
   "metadata": {},
   "source": [
    "Now that you have performed the NMO correction to flatten the reflection event, we can stack (or average) the corrected traces. This step is essential when the seismic data are contaminated with noise.\n",
    "\n",
    "Enter the intercept time (t0_clean) and stacking velocity (vstack_clean) and execute the next cell to perform the stacking. "
   ]
  },
  {
   "cell_type": "code",
   "execution_count": null,
   "metadata": {
    "collapsed": false
   },
   "outputs": [],
   "source": [
    "#Input estimated stacking velocity for clean CMP gahter and run below cell by pressing shift + enter\n",
    "t0_clean     = 0.1\n",
    "vstack_clean = 3500.\n",
    "NMOstackSingle(syndata, t0_clean, vstack_clean)"
   ]
  },
  {
   "cell_type": "markdown",
   "metadata": {},
   "source": [
    "### Step 3: Applying NMO correction to the Noisy Data"
   ]
  },
  {
   "cell_type": "markdown",
   "metadata": {},
   "source": [
    "Compared to the previous data set, this one is quite noisy. There is a reflector in the data, and your goal is to construct a stacked trace where this reflection is visible. \n",
    "\n",
    "First, estimate one $t_0$, and three plausible $v_{stack}$, v1,v2,v3. These three hyperbolas will be drawn on the panel on the left. The velocity used to perform the NMO correction, shown in the panel on the right, is $v_2$ (red).  "
   ]
  },
  {
   "cell_type": "code",
   "execution_count": null,
   "metadata": {
    "collapsed": false
   },
   "outputs": [],
   "source": [
    "noisy = interact(NoisyNMOWidget, t0 = (0.1, 0.6, 0.01), v1 = (200., 1500., 100.), v2 = (800., 2500., 100.), v3 = (1800., 3500., 100.))"
   ]
  },
  {
   "cell_type": "markdown",
   "metadata": {},
   "source": [
    "### Step 4: Apply CMP stack with estimated $v_{stack}$ (For noisy CMP gather)"
   ]
  },
  {
   "cell_type": "markdown",
   "metadata": {},
   "source": [
    "In the previous step, you chose a single intercept time and three stacking velocities. Enter the intercept time (t0_noisy), and the three possible stacking velocities as vstack_noisy1, vstack_noisy2, vstack_noisy3 and execute the cell to construct the stacked trace for each of the velocities you entered."
   ]
  },
  {
   "cell_type": "code",
   "execution_count": null,
   "metadata": {
    "collapsed": false
   },
   "outputs": [],
   "source": [
    "t0_noisy = 0.2\n",
    "vstack_noisy1 = 800.\n",
    "vstack_noisy2 = 1600.\n",
    "vstack_noisy3 = 2600.\n",
    "NMOstackthree(obsdata, t0_noisy, vstack_noisy1, vstack_noisy2, vstack_noisy3)"
   ]
  },
  {
   "cell_type": "code",
   "execution_count": null,
   "metadata": {
    "collapsed": false
   },
   "outputs": [],
   "source": []
  }
 ],
 "metadata": {
  "kernelspec": {
   "display_name": "Python 2",
   "language": "python",
   "name": "python2"
  },
  "language_info": {
   "codemirror_mode": {
    "name": "ipython",
    "version": 2
   },
   "file_extension": ".py",
   "mimetype": "text/x-python",
   "name": "python",
   "nbconvert_exporter": "python",
   "pygments_lexer": "ipython2",
   "version": "2.7.6"
  }
 },
 "nbformat": 4,
 "nbformat_minor": 0
}
